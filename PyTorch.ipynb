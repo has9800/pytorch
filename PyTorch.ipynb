{
  "nbformat": 4,
  "nbformat_minor": 0,
  "metadata": {
    "colab": {
      "provenance": [],
      "gpuType": "T4",
      "authorship_tag": "ABX9TyNDSHE2MKO6z7Ow3XbdB7Wk",
      "include_colab_link": true
    },
    "kernelspec": {
      "name": "python3",
      "display_name": "Python 3"
    },
    "language_info": {
      "name": "python"
    },
    "accelerator": "GPU"
  },
  "cells": [
    {
      "cell_type": "markdown",
      "metadata": {
        "id": "view-in-github",
        "colab_type": "text"
      },
      "source": [
        "<a href=\"https://colab.research.google.com/github/has9800/pytorch/blob/main/PyTorch.ipynb\" target=\"_parent\"><img src=\"https://colab.research.google.com/assets/colab-badge.svg\" alt=\"Open In Colab\"/></a>"
      ]
    },
    {
      "cell_type": "markdown",
      "source": [
        "# Pytorch"
      ],
      "metadata": {
        "id": "WZ4tmNkllN5F"
      }
    },
    {
      "cell_type": "code",
      "execution_count": 1,
      "metadata": {
        "colab": {
          "base_uri": "https://localhost:8080/"
        },
        "id": "Ivg1pUVmkeB3",
        "outputId": "245f9f53-8171-4e71-eaf9-ad1873c2240f"
      },
      "outputs": [
        {
          "output_type": "stream",
          "name": "stdout",
          "text": [
            "2.5.1+cu124\n"
          ]
        }
      ],
      "source": [
        "import torch\n",
        "import numpy as np\n",
        "import pandas as pd\n",
        "import matplotlib.pyplot as plt\n",
        "\n",
        "print(torch.__version__)"
      ]
    },
    {
      "cell_type": "code",
      "source": [
        "!nvidia-smi"
      ],
      "metadata": {
        "colab": {
          "base_uri": "https://localhost:8080/"
        },
        "id": "sk2CBgqqlI2t",
        "outputId": "7bba7967-4347-47f0-9d32-21ebc33b5f0d"
      },
      "execution_count": 2,
      "outputs": [
        {
          "output_type": "stream",
          "name": "stdout",
          "text": [
            "Thu Feb 13 06:02:13 2025       \n",
            "+-----------------------------------------------------------------------------------------+\n",
            "| NVIDIA-SMI 550.54.15              Driver Version: 550.54.15      CUDA Version: 12.4     |\n",
            "|-----------------------------------------+------------------------+----------------------+\n",
            "| GPU  Name                 Persistence-M | Bus-Id          Disp.A | Volatile Uncorr. ECC |\n",
            "| Fan  Temp   Perf          Pwr:Usage/Cap |           Memory-Usage | GPU-Util  Compute M. |\n",
            "|                                         |                        |               MIG M. |\n",
            "|=========================================+========================+======================|\n",
            "|   0  Tesla T4                       Off |   00000000:00:04.0 Off |                    0 |\n",
            "| N/A   41C    P8              9W /   70W |       0MiB /  15360MiB |      0%      Default |\n",
            "|                                         |                        |                  N/A |\n",
            "+-----------------------------------------+------------------------+----------------------+\n",
            "                                                                                         \n",
            "+-----------------------------------------------------------------------------------------+\n",
            "| Processes:                                                                              |\n",
            "|  GPU   GI   CI        PID   Type   Process name                              GPU Memory |\n",
            "|        ID   ID                                                               Usage      |\n",
            "|=========================================================================================|\n",
            "|  No running processes found                                                             |\n",
            "+-----------------------------------------------------------------------------------------+\n"
          ]
        }
      ]
    },
    {
      "cell_type": "code",
      "source": [
        "if torch.cuda.is_available():\n",
        "  print(\"GPU is available:\", torch.cuda.get_device_name(0))\n",
        "else:\n",
        "  print(\"GPU is not available.\")"
      ],
      "metadata": {
        "colab": {
          "base_uri": "https://localhost:8080/"
        },
        "id": "FVOFQlaQmfvI",
        "outputId": "364dbd1b-43e6-4627-f52a-29b5e52de07d"
      },
      "execution_count": 3,
      "outputs": [
        {
          "output_type": "stream",
          "name": "stdout",
          "text": [
            "GPU is available: Tesla T4\n"
          ]
        }
      ]
    },
    {
      "cell_type": "markdown",
      "source": [
        "Tensors"
      ],
      "metadata": {
        "id": "EMzYMIkXow5q"
      }
    },
    {
      "cell_type": "code",
      "source": [
        "# scalar\n",
        "scalar = torch.tensor(3)\n",
        "\n",
        "scalar"
      ],
      "metadata": {
        "colab": {
          "base_uri": "https://localhost:8080/"
        },
        "id": "GeOvw-wsqV1R",
        "outputId": "5392197f-36aa-4438-e446-bd92917e7cd2"
      },
      "execution_count": 4,
      "outputs": [
        {
          "output_type": "execute_result",
          "data": {
            "text/plain": [
              "tensor(3)"
            ]
          },
          "metadata": {},
          "execution_count": 4
        }
      ]
    },
    {
      "cell_type": "code",
      "source": [
        "# find the dimensions using ndim\n",
        "scalar.ndim"
      ],
      "metadata": {
        "colab": {
          "base_uri": "https://localhost:8080/"
        },
        "id": "mC0JpXv4qdZD",
        "outputId": "47eb88a7-ff68-4a6d-b0b7-dc9fffdfbfe0"
      },
      "execution_count": 5,
      "outputs": [
        {
          "output_type": "execute_result",
          "data": {
            "text/plain": [
              "0"
            ]
          },
          "metadata": {},
          "execution_count": 5
        }
      ]
    },
    {
      "cell_type": "code",
      "source": [
        "# vector\n",
        "vector = torch.tensor([2, 4])\n",
        "\n",
        "vector"
      ],
      "metadata": {
        "colab": {
          "base_uri": "https://localhost:8080/"
        },
        "id": "6cz6XmBWqeVV",
        "outputId": "122ac397-8591-4876-d3d6-dab284738f71"
      },
      "execution_count": 6,
      "outputs": [
        {
          "output_type": "execute_result",
          "data": {
            "text/plain": [
              "tensor([2, 4])"
            ]
          },
          "metadata": {},
          "execution_count": 6
        }
      ]
    },
    {
      "cell_type": "code",
      "source": [
        "vector.ndim"
      ],
      "metadata": {
        "colab": {
          "base_uri": "https://localhost:8080/"
        },
        "id": "V9-rF7d4qeQX",
        "outputId": "0796cb90-4608-4d22-951b-8fbfb6362690"
      },
      "execution_count": 7,
      "outputs": [
        {
          "output_type": "execute_result",
          "data": {
            "text/plain": [
              "1"
            ]
          },
          "metadata": {},
          "execution_count": 7
        }
      ]
    },
    {
      "cell_type": "code",
      "source": [
        "# matrix\n",
        "matrix = torch.tensor([[2, 4], [6, 8]])\n",
        "\n",
        "matrix"
      ],
      "metadata": {
        "colab": {
          "base_uri": "https://localhost:8080/"
        },
        "id": "2ebAB924qeNK",
        "outputId": "d70ef9cc-9f59-4e77-bdcb-6aaeb3272995"
      },
      "execution_count": 8,
      "outputs": [
        {
          "output_type": "execute_result",
          "data": {
            "text/plain": [
              "tensor([[2, 4],\n",
              "        [6, 8]])"
            ]
          },
          "metadata": {},
          "execution_count": 8
        }
      ]
    },
    {
      "cell_type": "code",
      "source": [
        "matrix.ndim"
      ],
      "metadata": {
        "colab": {
          "base_uri": "https://localhost:8080/"
        },
        "id": "0VEVIN1ZqeFk",
        "outputId": "0adcc038-1b4b-49e2-ea89-5ec963bb10d2"
      },
      "execution_count": 9,
      "outputs": [
        {
          "output_type": "execute_result",
          "data": {
            "text/plain": [
              "2"
            ]
          },
          "metadata": {},
          "execution_count": 9
        }
      ]
    },
    {
      "cell_type": "code",
      "source": [
        "# tensor\n",
        "tensor = torch.tensor([[[2, 4], [6, 8], [10, 12], [1, 2], [3, 4], [5, 6]]])\n",
        "\n",
        "tensor"
      ],
      "metadata": {
        "colab": {
          "base_uri": "https://localhost:8080/"
        },
        "id": "w_NrldZusH9Q",
        "outputId": "30589d4c-48fe-40b2-d468-6ab7eff05e68"
      },
      "execution_count": 10,
      "outputs": [
        {
          "output_type": "execute_result",
          "data": {
            "text/plain": [
              "tensor([[[ 2,  4],\n",
              "         [ 6,  8],\n",
              "         [10, 12],\n",
              "         [ 1,  2],\n",
              "         [ 3,  4],\n",
              "         [ 5,  6]]])"
            ]
          },
          "metadata": {},
          "execution_count": 10
        }
      ]
    },
    {
      "cell_type": "code",
      "source": [
        "tensor.ndim"
      ],
      "metadata": {
        "colab": {
          "base_uri": "https://localhost:8080/"
        },
        "id": "uSbf4gb1sQ8M",
        "outputId": "3f0b6ae1-4190-4289-b8d2-c52d43f4a152"
      },
      "execution_count": 11,
      "outputs": [
        {
          "output_type": "execute_result",
          "data": {
            "text/plain": [
              "3"
            ]
          },
          "metadata": {},
          "execution_count": 11
        }
      ]
    },
    {
      "cell_type": "code",
      "source": [
        "# random tensors - pytorch creates random tensors under the hood for ml learning\n",
        "random_tensor = torch.rand(3, 4)\n",
        "\n",
        "random_tensor"
      ],
      "metadata": {
        "colab": {
          "base_uri": "https://localhost:8080/"
        },
        "id": "lzLrNooXvm9u",
        "outputId": "d5a2d06e-6dd5-4e7e-ce6c-661e316af78b"
      },
      "execution_count": 12,
      "outputs": [
        {
          "output_type": "execute_result",
          "data": {
            "text/plain": [
              "tensor([[0.9758, 0.4933, 0.6485, 0.2948],\n",
              "        [0.2550, 0.6475, 0.9920, 0.0986],\n",
              "        [0.4436, 0.0050, 0.3832, 0.3647]])"
            ]
          },
          "metadata": {},
          "execution_count": 12
        }
      ]
    },
    {
      "cell_type": "code",
      "source": [
        "random_tensor.ndim"
      ],
      "metadata": {
        "colab": {
          "base_uri": "https://localhost:8080/"
        },
        "id": "jxGSIgpnwjwY",
        "outputId": "5bae2cbf-dc6e-4dd3-f742-eb3432ac9a5e"
      },
      "execution_count": 13,
      "outputs": [
        {
          "output_type": "execute_result",
          "data": {
            "text/plain": [
              "2"
            ]
          },
          "metadata": {},
          "execution_count": 13
        }
      ]
    },
    {
      "cell_type": "code",
      "source": [
        "# tensors as images\n",
        "image_tensor = torch.rand(size=(224, 224, 3))\n",
        "\n",
        "image_tensor.shape, image_tensor.ndim"
      ],
      "metadata": {
        "colab": {
          "base_uri": "https://localhost:8080/"
        },
        "id": "nj7Agb5Ww5wn",
        "outputId": "6165ab90-56d1-4ffa-97cd-64d170b556cb"
      },
      "execution_count": 14,
      "outputs": [
        {
          "output_type": "execute_result",
          "data": {
            "text/plain": [
              "(torch.Size([224, 224, 3]), 3)"
            ]
          },
          "metadata": {},
          "execution_count": 14
        }
      ]
    },
    {
      "cell_type": "code",
      "source": [
        "image_tensor"
      ],
      "metadata": {
        "colab": {
          "base_uri": "https://localhost:8080/"
        },
        "id": "s6pq54O4w5qr",
        "outputId": "664117ff-4075-49d7-f011-96613cbd7588"
      },
      "execution_count": 15,
      "outputs": [
        {
          "output_type": "execute_result",
          "data": {
            "text/plain": [
              "tensor([[[0.2010, 0.4448, 0.0818],\n",
              "         [0.5504, 0.4629, 0.3304],\n",
              "         [0.1561, 0.4341, 0.9005],\n",
              "         ...,\n",
              "         [0.0834, 0.1819, 0.3935],\n",
              "         [0.3572, 0.3268, 0.4363],\n",
              "         [0.2443, 0.1047, 0.3512]],\n",
              "\n",
              "        [[0.6489, 0.9148, 0.4308],\n",
              "         [0.6397, 0.8854, 0.9286],\n",
              "         [0.8141, 0.8217, 0.9414],\n",
              "         ...,\n",
              "         [0.7182, 0.6127, 0.7370],\n",
              "         [0.6735, 0.3460, 0.8046],\n",
              "         [0.0025, 0.5910, 0.7264]],\n",
              "\n",
              "        [[0.3898, 0.7242, 0.1524],\n",
              "         [0.8666, 0.9794, 0.6044],\n",
              "         [0.2265, 0.9245, 0.0030],\n",
              "         ...,\n",
              "         [0.6222, 0.8509, 0.9855],\n",
              "         [0.3478, 0.6197, 0.9586],\n",
              "         [0.4080, 0.8147, 0.1936]],\n",
              "\n",
              "        ...,\n",
              "\n",
              "        [[0.5785, 0.1453, 0.5429],\n",
              "         [0.6170, 0.4639, 0.5370],\n",
              "         [0.1027, 0.1190, 0.3912],\n",
              "         ...,\n",
              "         [0.3174, 0.3131, 0.9569],\n",
              "         [0.6971, 0.0490, 0.0588],\n",
              "         [0.5063, 0.2674, 0.8485]],\n",
              "\n",
              "        [[0.1964, 0.3180, 0.7504],\n",
              "         [0.2186, 0.5870, 0.3551],\n",
              "         [0.2693, 0.3403, 0.3074],\n",
              "         ...,\n",
              "         [0.4990, 0.8296, 0.3718],\n",
              "         [0.7388, 0.8008, 0.5864],\n",
              "         [0.5142, 0.1046, 0.2083]],\n",
              "\n",
              "        [[0.3031, 0.1894, 0.9547],\n",
              "         [0.9020, 0.7868, 0.2078],\n",
              "         [0.5190, 0.4078, 0.1831],\n",
              "         ...,\n",
              "         [0.5644, 0.5558, 0.6821],\n",
              "         [0.8736, 0.2587, 0.1104],\n",
              "         [0.7085, 0.5030, 0.4115]]])"
            ]
          },
          "metadata": {},
          "execution_count": 15
        }
      ]
    },
    {
      "cell_type": "code",
      "source": [
        "# tensors of ones and zeros - zeros used for masking\n",
        "zeros = torch.zeros(size=(3, 4))\n",
        "\n",
        "zeros"
      ],
      "metadata": {
        "colab": {
          "base_uri": "https://localhost:8080/"
        },
        "id": "lufdR3Yv0wdw",
        "outputId": "83294316-1f60-4266-9718-e0b8b16cc2f9"
      },
      "execution_count": 16,
      "outputs": [
        {
          "output_type": "execute_result",
          "data": {
            "text/plain": [
              "tensor([[0., 0., 0., 0.],\n",
              "        [0., 0., 0., 0.],\n",
              "        [0., 0., 0., 0.]])"
            ]
          },
          "metadata": {},
          "execution_count": 16
        }
      ]
    },
    {
      "cell_type": "code",
      "source": [
        "# tensor range\n",
        "one_to_ten = torch.arange(start=2, end=13, step=2)\n",
        "\n",
        "one_to_ten"
      ],
      "metadata": {
        "colab": {
          "base_uri": "https://localhost:8080/"
        },
        "id": "9sC1pVxew5lI",
        "outputId": "e093092a-e7d2-4129-ad87-99199ba9328d"
      },
      "execution_count": 17,
      "outputs": [
        {
          "output_type": "execute_result",
          "data": {
            "text/plain": [
              "tensor([ 2,  4,  6,  8, 10, 12])"
            ]
          },
          "metadata": {},
          "execution_count": 17
        }
      ]
    },
    {
      "cell_type": "code",
      "source": [
        "# assign a dtype - grad is if you want pytorch to track gradients when calculating\n",
        "float_tensor = torch.tensor([[3, 4], [5, 6]], dtype=torch.int32, device=\"cuda\", requires_grad=False)\n",
        "\n",
        "float_tensor.dtype"
      ],
      "metadata": {
        "colab": {
          "base_uri": "https://localhost:8080/"
        },
        "id": "T2nlL6Wg-_6L",
        "outputId": "9c498df5-b860-4897-ea6a-ea366170c52a"
      },
      "execution_count": 18,
      "outputs": [
        {
          "output_type": "execute_result",
          "data": {
            "text/plain": [
              "torch.int32"
            ]
          },
          "metadata": {},
          "execution_count": 18
        }
      ]
    },
    {
      "cell_type": "code",
      "source": [
        "# change the dtype\n",
        "float_tensor = float_tensor.type(torch.float16)\n",
        "\n",
        "float_tensor.dtype"
      ],
      "metadata": {
        "id": "gAkqUXTr_QA9",
        "colab": {
          "base_uri": "https://localhost:8080/"
        },
        "outputId": "799221c4-b4f1-454a-92e4-8e9b2ffe694a"
      },
      "execution_count": 19,
      "outputs": [
        {
          "output_type": "execute_result",
          "data": {
            "text/plain": [
              "torch.float16"
            ]
          },
          "metadata": {},
          "execution_count": 19
        }
      ]
    }
  ]
}