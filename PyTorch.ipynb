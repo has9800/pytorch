{
  "nbformat": 4,
  "nbformat_minor": 0,
  "metadata": {
    "colab": {
      "provenance": [],
      "authorship_tag": "ABX9TyOH77xU8lHBGKCXpaOZJ4u2",
      "include_colab_link": true
    },
    "kernelspec": {
      "name": "python3",
      "display_name": "Python 3"
    },
    "language_info": {
      "name": "python"
    }
  },
  "cells": [
    {
      "cell_type": "markdown",
      "metadata": {
        "id": "view-in-github",
        "colab_type": "text"
      },
      "source": [
        "<a href=\"https://colab.research.google.com/github/has9800/pytorch/blob/main/PyTorch.ipynb\" target=\"_parent\"><img src=\"https://colab.research.google.com/assets/colab-badge.svg\" alt=\"Open In Colab\"/></a>"
      ]
    },
    {
      "cell_type": "markdown",
      "source": [
        "# Pytorch"
      ],
      "metadata": {
        "id": "WZ4tmNkllN5F"
      }
    },
    {
      "cell_type": "code",
      "execution_count": 19,
      "metadata": {
        "colab": {
          "base_uri": "https://localhost:8080/"
        },
        "id": "Ivg1pUVmkeB3",
        "outputId": "dc21fe5b-c9eb-4696-d663-d23a2c4870e8"
      },
      "outputs": [
        {
          "output_type": "stream",
          "name": "stdout",
          "text": [
            "2.5.1+cu124\n"
          ]
        }
      ],
      "source": [
        "import torch\n",
        "import numpy as np\n",
        "import pandas as pd\n",
        "import matplotlib.pyplot as plt\n",
        "\n",
        "print(torch.__version__)"
      ]
    },
    {
      "cell_type": "code",
      "source": [
        "!nvidia-smi"
      ],
      "metadata": {
        "colab": {
          "base_uri": "https://localhost:8080/"
        },
        "id": "sk2CBgqqlI2t",
        "outputId": "de185e24-c73e-4495-c2cd-54e9164e1e09"
      },
      "execution_count": 20,
      "outputs": [
        {
          "output_type": "stream",
          "name": "stdout",
          "text": [
            "/bin/bash: line 1: nvidia-smi: command not found\n"
          ]
        }
      ]
    },
    {
      "cell_type": "code",
      "source": [
        "if torch.cuda.is_available():\n",
        "  print(\"GPU is available:\", torch.cuda.get_device_name(0))\n",
        "else:\n",
        "  print(\"GPU is not available.\")"
      ],
      "metadata": {
        "colab": {
          "base_uri": "https://localhost:8080/"
        },
        "id": "FVOFQlaQmfvI",
        "outputId": "acd2cab9-c4e7-43ad-efcb-4ef7db624019"
      },
      "execution_count": 21,
      "outputs": [
        {
          "output_type": "stream",
          "name": "stdout",
          "text": [
            "GPU is not available.\n"
          ]
        }
      ]
    },
    {
      "cell_type": "markdown",
      "source": [
        "Tensors"
      ],
      "metadata": {
        "id": "EMzYMIkXow5q"
      }
    },
    {
      "cell_type": "code",
      "source": [
        "# scalar\n",
        "scalar = torch.tensor(3)\n",
        "\n",
        "scalar"
      ],
      "metadata": {
        "colab": {
          "base_uri": "https://localhost:8080/"
        },
        "id": "GeOvw-wsqV1R",
        "outputId": "918b005a-5a32-41d8-c74c-b8f14d9bc527"
      },
      "execution_count": 22,
      "outputs": [
        {
          "output_type": "execute_result",
          "data": {
            "text/plain": [
              "tensor(3)"
            ]
          },
          "metadata": {},
          "execution_count": 22
        }
      ]
    },
    {
      "cell_type": "code",
      "source": [
        "# find the dimensions using ndim\n",
        "scalar.ndim"
      ],
      "metadata": {
        "colab": {
          "base_uri": "https://localhost:8080/"
        },
        "id": "mC0JpXv4qdZD",
        "outputId": "3b31e156-cf69-4dc6-ed0a-5b82b8cfff66"
      },
      "execution_count": 23,
      "outputs": [
        {
          "output_type": "execute_result",
          "data": {
            "text/plain": [
              "0"
            ]
          },
          "metadata": {},
          "execution_count": 23
        }
      ]
    },
    {
      "cell_type": "code",
      "source": [
        "# vector\n",
        "vector = torch.tensor([2, 4])\n",
        "\n",
        "vector"
      ],
      "metadata": {
        "colab": {
          "base_uri": "https://localhost:8080/"
        },
        "id": "6cz6XmBWqeVV",
        "outputId": "d7f7092c-ba3b-4a75-bf2c-fe45e5ed0858"
      },
      "execution_count": 24,
      "outputs": [
        {
          "output_type": "execute_result",
          "data": {
            "text/plain": [
              "tensor([2, 4])"
            ]
          },
          "metadata": {},
          "execution_count": 24
        }
      ]
    },
    {
      "cell_type": "code",
      "source": [
        "vector.ndim"
      ],
      "metadata": {
        "colab": {
          "base_uri": "https://localhost:8080/"
        },
        "id": "V9-rF7d4qeQX",
        "outputId": "d6c26165-5f99-41d9-fd5d-9becb3628924"
      },
      "execution_count": 25,
      "outputs": [
        {
          "output_type": "execute_result",
          "data": {
            "text/plain": [
              "1"
            ]
          },
          "metadata": {},
          "execution_count": 25
        }
      ]
    },
    {
      "cell_type": "code",
      "source": [
        "# matrix\n",
        "matrix = torch.tensor([[2, 4], [6, 8]])\n",
        "\n",
        "matrix"
      ],
      "metadata": {
        "colab": {
          "base_uri": "https://localhost:8080/"
        },
        "id": "2ebAB924qeNK",
        "outputId": "8f80f577-dcec-45c4-ba01-095e04ce5966"
      },
      "execution_count": 26,
      "outputs": [
        {
          "output_type": "execute_result",
          "data": {
            "text/plain": [
              "tensor([[2, 4],\n",
              "        [6, 8]])"
            ]
          },
          "metadata": {},
          "execution_count": 26
        }
      ]
    },
    {
      "cell_type": "code",
      "source": [
        "matrix.ndim"
      ],
      "metadata": {
        "colab": {
          "base_uri": "https://localhost:8080/"
        },
        "id": "0VEVIN1ZqeFk",
        "outputId": "312e86e2-a9d8-4c48-8fa9-d60dfb0cf1b5"
      },
      "execution_count": 27,
      "outputs": [
        {
          "output_type": "execute_result",
          "data": {
            "text/plain": [
              "2"
            ]
          },
          "metadata": {},
          "execution_count": 27
        }
      ]
    },
    {
      "cell_type": "code",
      "source": [
        "# tensor\n",
        "tensor = torch.tensor([[[2, 4], [6, 8], [10, 12], [1, 2], [3, 4], [5, 6]]])\n",
        "\n",
        "tensor"
      ],
      "metadata": {
        "colab": {
          "base_uri": "https://localhost:8080/"
        },
        "id": "w_NrldZusH9Q",
        "outputId": "d50d74c5-d6d0-4cd3-ac4d-267fcd25a733"
      },
      "execution_count": 28,
      "outputs": [
        {
          "output_type": "execute_result",
          "data": {
            "text/plain": [
              "tensor([[[ 2,  4],\n",
              "         [ 6,  8],\n",
              "         [10, 12],\n",
              "         [ 1,  2],\n",
              "         [ 3,  4],\n",
              "         [ 5,  6]]])"
            ]
          },
          "metadata": {},
          "execution_count": 28
        }
      ]
    },
    {
      "cell_type": "code",
      "source": [
        "tensor.ndim"
      ],
      "metadata": {
        "colab": {
          "base_uri": "https://localhost:8080/"
        },
        "id": "uSbf4gb1sQ8M",
        "outputId": "d5b50b91-8046-4ce4-de56-a75514f5866c"
      },
      "execution_count": 29,
      "outputs": [
        {
          "output_type": "execute_result",
          "data": {
            "text/plain": [
              "3"
            ]
          },
          "metadata": {},
          "execution_count": 29
        }
      ]
    },
    {
      "cell_type": "code",
      "source": [
        "# random tensors - pytorch creates random tensors under the hood for ml learning\n",
        "random_tensor = torch.rand(3, 4)\n",
        "\n",
        "random_tensor"
      ],
      "metadata": {
        "colab": {
          "base_uri": "https://localhost:8080/"
        },
        "id": "lzLrNooXvm9u",
        "outputId": "c124a4ac-81ce-4d80-abda-fea5b4b412b5"
      },
      "execution_count": 32,
      "outputs": [
        {
          "output_type": "execute_result",
          "data": {
            "text/plain": [
              "tensor([[0.6786, 0.1441, 0.7540, 0.8663],\n",
              "        [0.6921, 0.1813, 0.1653, 0.5099],\n",
              "        [0.2606, 0.9813, 0.7023, 0.4304]])"
            ]
          },
          "metadata": {},
          "execution_count": 32
        }
      ]
    },
    {
      "cell_type": "code",
      "source": [
        "random_tensor.ndim"
      ],
      "metadata": {
        "colab": {
          "base_uri": "https://localhost:8080/"
        },
        "id": "jxGSIgpnwjwY",
        "outputId": "e5703d71-ddad-47d1-e2de-a22512b7b9c6"
      },
      "execution_count": 33,
      "outputs": [
        {
          "output_type": "execute_result",
          "data": {
            "text/plain": [
              "2"
            ]
          },
          "metadata": {},
          "execution_count": 33
        }
      ]
    },
    {
      "cell_type": "code",
      "source": [
        "# tensors as images\n",
        "image_tensor = torch.rand(size=(224, 224, 3))\n",
        "\n",
        "image_tensor.shape, image_tensor.ndim"
      ],
      "metadata": {
        "colab": {
          "base_uri": "https://localhost:8080/"
        },
        "id": "nj7Agb5Ww5wn",
        "outputId": "6a1c44ea-1711-4096-9608-510e048eb5b9"
      },
      "execution_count": 39,
      "outputs": [
        {
          "output_type": "execute_result",
          "data": {
            "text/plain": [
              "(torch.Size([224, 224, 3]), 3)"
            ]
          },
          "metadata": {},
          "execution_count": 39
        }
      ]
    },
    {
      "cell_type": "code",
      "source": [
        "image_tensor"
      ],
      "metadata": {
        "colab": {
          "base_uri": "https://localhost:8080/"
        },
        "id": "s6pq54O4w5qr",
        "outputId": "60de7889-79f9-4d3e-9955-9934c21a0ccd"
      },
      "execution_count": 40,
      "outputs": [
        {
          "output_type": "execute_result",
          "data": {
            "text/plain": [
              "tensor([[[0.8650, 0.9645, 0.4398],\n",
              "         [0.6175, 0.7079, 0.2247],\n",
              "         [0.4507, 0.1192, 0.9151],\n",
              "         ...,\n",
              "         [0.4629, 0.8665, 0.1529],\n",
              "         [0.6337, 0.1872, 0.1423],\n",
              "         [0.9610, 0.2531, 0.6651]],\n",
              "\n",
              "        [[0.4647, 0.6105, 0.9787],\n",
              "         [0.1359, 0.3447, 0.2816],\n",
              "         [0.4439, 0.2356, 0.5058],\n",
              "         ...,\n",
              "         [0.3256, 0.5183, 0.8457],\n",
              "         [0.3628, 0.1075, 0.2398],\n",
              "         [0.5100, 0.6032, 0.3118]],\n",
              "\n",
              "        [[0.2564, 0.6106, 0.4997],\n",
              "         [0.3770, 0.8512, 0.9291],\n",
              "         [0.6667, 0.6632, 0.9392],\n",
              "         ...,\n",
              "         [0.5641, 0.2474, 0.6628],\n",
              "         [0.7641, 0.8537, 0.4277],\n",
              "         [0.1974, 0.1363, 0.5732]],\n",
              "\n",
              "        ...,\n",
              "\n",
              "        [[0.2066, 0.0088, 0.5650],\n",
              "         [0.4796, 0.0804, 0.3105],\n",
              "         [0.8203, 0.7150, 0.6701],\n",
              "         ...,\n",
              "         [0.2551, 0.3861, 0.0640],\n",
              "         [0.4004, 0.4784, 0.2470],\n",
              "         [0.1792, 0.7738, 0.6613]],\n",
              "\n",
              "        [[0.3076, 0.0737, 0.8496],\n",
              "         [0.1233, 0.8074, 0.1264],\n",
              "         [0.7088, 0.3359, 0.2752],\n",
              "         ...,\n",
              "         [0.2327, 0.7657, 0.7046],\n",
              "         [0.8525, 0.1893, 0.4747],\n",
              "         [0.1554, 0.8913, 0.1510]],\n",
              "\n",
              "        [[0.6513, 0.7375, 0.9630],\n",
              "         [0.2618, 0.2350, 0.3844],\n",
              "         [0.1698, 0.7450, 0.3795],\n",
              "         ...,\n",
              "         [0.9664, 0.0032, 0.4058],\n",
              "         [0.1755, 0.1537, 0.2036],\n",
              "         [0.6699, 0.3165, 0.2578]]])"
            ]
          },
          "metadata": {},
          "execution_count": 40
        }
      ]
    },
    {
      "cell_type": "code",
      "source": [
        "# tensors of ones and zeros - zeros used for masking\n",
        "zeros = torch.zeros(size=(3, 4))\n",
        "\n",
        "zeros"
      ],
      "metadata": {
        "colab": {
          "base_uri": "https://localhost:8080/"
        },
        "id": "lufdR3Yv0wdw",
        "outputId": "d82c1fbc-7d61-49b4-d8e8-3dcdcbd38bdf"
      },
      "execution_count": 42,
      "outputs": [
        {
          "output_type": "execute_result",
          "data": {
            "text/plain": [
              "tensor([[0., 0., 0., 0.],\n",
              "        [0., 0., 0., 0.],\n",
              "        [0., 0., 0., 0.]])"
            ]
          },
          "metadata": {},
          "execution_count": 42
        }
      ]
    },
    {
      "cell_type": "code",
      "source": [
        "# tensor range\n",
        "one_to_ten = torch.arange(start=2, end=13, step=2)\n",
        "\n",
        "one_to_ten"
      ],
      "metadata": {
        "colab": {
          "base_uri": "https://localhost:8080/"
        },
        "id": "9sC1pVxew5lI",
        "outputId": "ee389c6f-2df5-4f21-880b-57d1cd6db8db"
      },
      "execution_count": 41,
      "outputs": [
        {
          "output_type": "execute_result",
          "data": {
            "text/plain": [
              "tensor([ 2,  4,  6,  8, 10, 12])"
            ]
          },
          "metadata": {},
          "execution_count": 41
        }
      ]
    },
    {
      "cell_type": "code",
      "source": [
        "# assign a dtype - grad is if you want pytorch to track gradients when calculating\n",
        "float_tensor = torch.tensor([[3, 4], [5, 6]], dtype=torch.int32, device=\"cuda\", requires_grad=False)\n",
        "\n",
        "float_tensor.dtype"
      ],
      "metadata": {
        "colab": {
          "base_uri": "https://localhost:8080/"
        },
        "id": "T2nlL6Wg-_6L",
        "outputId": "f0ea6ca2-6551-4220-8275-56e6ded7fcaf"
      },
      "execution_count": 46,
      "outputs": [
        {
          "output_type": "execute_result",
          "data": {
            "text/plain": [
              "torch.int32"
            ]
          },
          "metadata": {},
          "execution_count": 46
        }
      ]
    },
    {
      "cell_type": "code",
      "source": [
        "# change the dtype\n",
        "float_tensor = float_tensor.type(torch.float16)\n",
        "\n",
        "float_tensor.dtype"
      ],
      "metadata": {
        "id": "gAkqUXTr_QA9"
      },
      "execution_count": 49,
      "outputs": []
    },
    {
      "cell_type": "code",
      "source": [],
      "metadata": {
        "colab": {
          "base_uri": "https://localhost:8080/"
        },
        "id": "TgZ3Uer8B5A2",
        "outputId": "788d6a50-3ed7-418d-f4ee-86f23ed2bd09"
      },
      "execution_count": 50,
      "outputs": [
        {
          "output_type": "execute_result",
          "data": {
            "text/plain": [
              "torch.float16"
            ]
          },
          "metadata": {},
          "execution_count": 50
        }
      ]
    }
  ]
}